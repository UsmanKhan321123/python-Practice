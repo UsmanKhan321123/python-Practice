{
 "cells": [
  {
   "cell_type": "code",
   "execution_count": 9,
   "metadata": {},
   "outputs": [
    {
     "name": "stdout",
     "output_type": "stream",
     "text": [
      "hello world\n",
      "Hello\n",
      "World      \n",
      "Hello\n",
      "World \t Bye Bye      \n"
     ]
    },
    {
     "data": {
      "text/plain": [
       "'Hello\\nWorld \\t Bye Bye      '"
      ]
     },
     "metadata": {},
     "output_type": "display_data"
    },
    {
     "name": "stdout",
     "output_type": "stream",
     "text": [
      "\n",
      "      h\n",
      "      E\n",
      "      L\n",
      "      L\n",
      "      O\n",
      "      \n",
      "      W\n",
      "      O\n",
      "      R\n",
      "      L\n",
      "      D\n",
      "\n",
      "      H\n",
      "      E\n",
      "      L\n",
      "      L\n",
      "      O\n",
      "      \n",
      "      W\n",
      "      O\n",
      "      R\n",
      "      L\n",
      "      D\n"
     ]
    }
   ],
   "source": [
    "print(\"hello\\\n",
    " world\")\n",
    "print(\"Hello\\\n",
    "\\nWorld\\\n",
    "      \")\n",
    "print(\"Hello\\\n",
    "\\nWorld \\t Bye Bye\\\n",
    "      \")\n",
    "display(\"Hello\\\n",
    "\\nWorld \\t Bye Bye\\\n",
    "      \")\n",
    "print(\"\"\"\n",
    "      h\n",
    "      E\n",
    "      L\n",
    "      L\n",
    "      O\n",
    "      \n",
    "      W\n",
    "      O\n",
    "      R\n",
    "      L\n",
    "      D\"\"\")\n",
    "print('''\n",
    "      H\n",
    "      E\n",
    "      L\n",
    "      L\n",
    "      O\n",
    "      \n",
    "      W\n",
    "      O\n",
    "      R\n",
    "      L\n",
    "      D''')"
   ]
  },
  {
   "cell_type": "code",
   "execution_count": null,
   "metadata": {},
   "outputs": [],
   "source": []
  },
  {
   "cell_type": "code",
   "execution_count": 18,
   "metadata": {},
   "outputs": [
    {
     "name": "stdout",
     "output_type": "stream",
     "text": [
      "Hello Mr Usman Khan. You are 23 years old\n",
      "Hello I am Usman Khan \n",
      "and I am 23 years old\n",
      "Hello Mr Usman Khan .are U 23 old\n",
      "Hello Mr 23 .are U Usman Khan old\n"
     ]
    }
   ],
   "source": [
    "user_name:str = \"Usman Khan\"\n",
    "age:int= 23\n",
    "print(f\"Hello Mr {user_name}. You are {age} years old\")\n",
    "print(\"\"\"Hello I am %s \n",
    "and I am %d years old\"\"\"%(user_name,age))\n",
    "print('''Hello Mr {} .are U {} old'''.format(user_name,age))\n",
    "print('''Hello Mr {1} .are U {0} old'''.format(user_name,age))\n",
    "\n"
   ]
  },
  {
   "cell_type": "code",
   "execution_count": 17,
   "metadata": {},
   "outputs": [
    {
     "name": "stderr",
     "output_type": "stream",
     "text": [
      "<>:9: SyntaxWarning: invalid escape sequence '\\?'\n",
      "<>:9: SyntaxWarning: invalid escape sequence '\\?'\n",
      "C:\\Users\\uk732\\AppData\\Local\\Temp\\ipykernel_7836\\1252651637.py:9: SyntaxWarning: invalid escape sequence '\\?'\n",
      "  print(\"hi %s are you %d years old as it is enough age for applying for passort \\?\" %(name,age))\n"
     ]
    },
    {
     "name": "stdout",
     "output_type": "stream",
     "text": [
      "hello world\n",
      "hello Your are 'Mr Arsalan'\n",
      "hello my dear friend      \n",
      " i think you are getting old\n",
      "Hi Mr ali please to meet you How old are you i think you are 21 years old\n",
      "My name is ali and i am 21 years old\n",
      "hi ali are you 21 years old as it is enough age for applying for passort \\?\n",
      "my name is ali i am going to take admission in class 21\n",
      "my name is 21 i am going to take admission in class ali\n",
      "hello i am ali and i am 21 years old\n"
     ]
    }
   ],
   "source": [
    "print(\"hello world\")\n",
    "print(\"hello Your are \\'Mr Arsalan\\'\")\n",
    "print(\"hello my dear friend\\\n",
    "      \\n i think you are getting old\")\n",
    "name: str = str(input(\"Enter your name : {name}\"))\n",
    "age: int = int(input(\"enter your age : {age}\"))\n",
    "print(f\"Hi Mr {name} please to meet you How old are you i think you are {age} years old\")\n",
    "print(\"My name is %s and i am %d years old\"%(name,age))\n",
    "print(\"hi %s are you %d years old as it is enough age for applying for passort \\?\" %(name,age))\n",
    "print(\"my name is {} i am going to take admission in class {}\".format(name,age))\n",
    "print(\"my name is {1} i am going to take admission in class {0}\".format(name,age))\n",
    "print(f\"hello i am {name} \" + f\"and i am {age} years old\")"
   ]
  },
  {
   "cell_type": "code",
   "execution_count": 20,
   "metadata": {},
   "outputs": [
    {
     "data": {
      "text/plain": [
       "str"
      ]
     },
     "metadata": {},
     "output_type": "display_data"
    }
   ],
   "source": [
    "population: int = 10000\n",
    "cast1: str = \"siddiqu\"\n",
    "display(type(cast1))"
   ]
  }
 ],
 "metadata": {
  "kernelspec": {
   "display_name": "Python 3",
   "language": "python",
   "name": "python3"
  },
  "language_info": {
   "codemirror_mode": {
    "name": "ipython",
    "version": 3
   },
   "file_extension": ".py",
   "mimetype": "text/x-python",
   "name": "python",
   "nbconvert_exporter": "python",
   "pygments_lexer": "ipython3",
   "version": "3.12.6"
  }
 },
 "nbformat": 4,
 "nbformat_minor": 2
}
